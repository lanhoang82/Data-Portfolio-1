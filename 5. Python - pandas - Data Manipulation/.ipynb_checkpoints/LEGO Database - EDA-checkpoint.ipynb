{
 "cells": [
  {
   "cell_type": "markdown",
   "id": "8a57ed29",
   "metadata": {},
   "source": [
    "## Introduction:"
   ]
  },
  {
   "cell_type": "markdown",
   "id": "12a5d9ce",
   "metadata": {},
   "source": [
    "#### Context:\n",
    "\n",
    "LEGO is a popular brand of toy building bricks. They are often sold in sets in order to build a specific object. Each set contains a number of parts in different shapes, sizes and colors. This database contains information on which parts are included in different LEGO sets. It was originally compiled to help people who owned some LEGO sets already figure out what other sets they could build with the pieces they had"
   ]
  },
  {
   "cell_type": "markdown",
   "id": "8f904e54",
   "metadata": {},
   "source": [
    "#### Content:\n",
    "This dataset contains the LEGO Parts/Sets/Colors and Inventories of every official LEGO set in the Rebrickable database. These files are current as of July 2017."
   ]
  },
  {
   "cell_type": "markdown",
   "id": "34f8dfe9",
   "metadata": {},
   "source": [
    "#### Acknowledgements:\n",
    "This dataset was compiled by Rebrickable, which is a website to help identify what LEGO sets can be built given bricks and pieces from other LEGO sets and made available on Kaggle at the following [link](https://www.kaggle.com/datasets/rtatman/lego-database). "
   ]
  },
  {
   "attachments": {
    "downloads_schema.png": {
     "image/png": "[encoded data removed]"
    }
   },
   "cell_type": "markdown",
   "id": "d90dd285",
   "metadata": {},
   "source": [
    "#### Dataset Description:\n",
    "\n",
    "The dataset contains 8 tables that are linked to each other through one or more relationships per the following schema:\n",
    "\n",
    "![downloads_schema.png](attachment:downloads_schema.png)\n",
    "\n"
   ]
  },
  {
   "cell_type": "markdown",
   "id": "82bdf9f1",
   "metadata": {},
   "source": [
    "## Data Import:"
   ]
  },
  {
   "cell_type": "code",
   "execution_count": 1,
   "id": "8ea1c97e",
   "metadata": {},
   "outputs": [],
   "source": [
    "#importing libraries\n",
    "\n",
    "import pandas as pd\n",
    "import numpy as np"
   ]
  },
  {
   "cell_type": "code",
   "execution_count": 2,
   "id": "a91feda2",
   "metadata": {},
   "outputs": [],
   "source": [
    "sets_df = pd.read_csv('../5. Python - pandas - Data Manipulation/data/sets.csv')\n",
    "themes_df = pd.read_csv('../5. Python - pandas - Data Manipulation/data/themes.csv')"
   ]
  },
  {
   "cell_type": "markdown",
   "id": "c4718b11",
   "metadata": {},
   "source": [
    "## Data Exploration:"
   ]
  },
  {
   "cell_type": "markdown",
   "id": "48e02eda",
   "metadata": {},
   "source": [
    "To start with the project, I will explore the `sets` and `themes` tables first."
   ]
  },
  {
   "cell_type": "code",
   "execution_count": 3,
   "id": "0247b70a",
   "metadata": {
    "scrolled": true
   },
   "outputs": [
    {
     "data": {
      "text/html": [
       "<div>\n",
       "<style scoped>\n",
       "    .dataframe tbody tr th:only-of-type {\n",
       "        vertical-align: middle;\n",
       "    }\n",
       "\n",
       "    .dataframe tbody tr th {\n",
       "        vertical-align: top;\n",
       "    }\n",
       "\n",
       "    .dataframe thead th {\n",
       "        text-align: right;\n",
       "    }\n",
       "</style>\n",
       "<table border=\"1\" class=\"dataframe\">\n",
       "  <thead>\n",
       "    <tr style=\"text-align: right;\">\n",
       "      <th></th>\n",
       "      <th>set_num</th>\n",
       "      <th>name</th>\n",
       "      <th>year</th>\n",
       "      <th>theme_id</th>\n",
       "      <th>num_parts</th>\n",
       "    </tr>\n",
       "  </thead>\n",
       "  <tbody>\n",
       "    <tr>\n",
       "      <th>0</th>\n",
       "      <td>00-1</td>\n",
       "      <td>Weetabix Castle</td>\n",
       "      <td>1970</td>\n",
       "      <td>414</td>\n",
       "      <td>471</td>\n",
       "    </tr>\n",
       "    <tr>\n",
       "      <th>1</th>\n",
       "      <td>0011-2</td>\n",
       "      <td>Town Mini-Figures</td>\n",
       "      <td>1978</td>\n",
       "      <td>84</td>\n",
       "      <td>12</td>\n",
       "    </tr>\n",
       "    <tr>\n",
       "      <th>2</th>\n",
       "      <td>0011-3</td>\n",
       "      <td>Castle 2 for 1 Bonus Offer</td>\n",
       "      <td>1987</td>\n",
       "      <td>199</td>\n",
       "      <td>2</td>\n",
       "    </tr>\n",
       "    <tr>\n",
       "      <th>3</th>\n",
       "      <td>0012-1</td>\n",
       "      <td>Space Mini-Figures</td>\n",
       "      <td>1979</td>\n",
       "      <td>143</td>\n",
       "      <td>12</td>\n",
       "    </tr>\n",
       "    <tr>\n",
       "      <th>4</th>\n",
       "      <td>0013-1</td>\n",
       "      <td>Space Mini-Figures</td>\n",
       "      <td>1979</td>\n",
       "      <td>143</td>\n",
       "      <td>12</td>\n",
       "    </tr>\n",
       "  </tbody>\n",
       "</table>\n",
       "</div>"
      ],
      "text/plain": [
       "  set_num                        name  year  theme_id  num_parts\n",
       "0    00-1             Weetabix Castle  1970       414        471\n",
       "1  0011-2           Town Mini-Figures  1978        84         12\n",
       "2  0011-3  Castle 2 for 1 Bonus Offer  1987       199          2\n",
       "3  0012-1          Space Mini-Figures  1979       143         12\n",
       "4  0013-1          Space Mini-Figures  1979       143         12"
      ]
     },
     "metadata": {},
     "output_type": "display_data"
    },
    {
     "data": {
      "text/html": [
       "<div>\n",
       "<style scoped>\n",
       "    .dataframe tbody tr th:only-of-type {\n",
       "        vertical-align: middle;\n",
       "    }\n",
       "\n",
       "    .dataframe tbody tr th {\n",
       "        vertical-align: top;\n",
       "    }\n",
       "\n",
       "    .dataframe thead th {\n",
       "        text-align: right;\n",
       "    }\n",
       "</style>\n",
       "<table border=\"1\" class=\"dataframe\">\n",
       "  <thead>\n",
       "    <tr style=\"text-align: right;\">\n",
       "      <th></th>\n",
       "      <th>id</th>\n",
       "      <th>name</th>\n",
       "      <th>parent_id</th>\n",
       "    </tr>\n",
       "  </thead>\n",
       "  <tbody>\n",
       "    <tr>\n",
       "      <th>0</th>\n",
       "      <td>1</td>\n",
       "      <td>Technic</td>\n",
       "      <td>NaN</td>\n",
       "    </tr>\n",
       "    <tr>\n",
       "      <th>1</th>\n",
       "      <td>2</td>\n",
       "      <td>Arctic Technic</td>\n",
       "      <td>1.0</td>\n",
       "    </tr>\n",
       "    <tr>\n",
       "      <th>2</th>\n",
       "      <td>3</td>\n",
       "      <td>Competition</td>\n",
       "      <td>1.0</td>\n",
       "    </tr>\n",
       "    <tr>\n",
       "      <th>3</th>\n",
       "      <td>4</td>\n",
       "      <td>Expert Builder</td>\n",
       "      <td>1.0</td>\n",
       "    </tr>\n",
       "    <tr>\n",
       "      <th>4</th>\n",
       "      <td>5</td>\n",
       "      <td>Model</td>\n",
       "      <td>1.0</td>\n",
       "    </tr>\n",
       "  </tbody>\n",
       "</table>\n",
       "</div>"
      ],
      "text/plain": [
       "   id            name  parent_id\n",
       "0   1         Technic        NaN\n",
       "1   2  Arctic Technic        1.0\n",
       "2   3     Competition        1.0\n",
       "3   4  Expert Builder        1.0\n",
       "4   5           Model        1.0"
      ]
     },
     "metadata": {},
     "output_type": "display_data"
    }
   ],
   "source": [
    "display(sets_df.head())\n",
    "display(themes_df.head())\n"
   ]
  },
  {
   "cell_type": "code",
   "execution_count": 4,
   "id": "eee76f4f",
   "metadata": {
    "scrolled": false
   },
   "outputs": [
    {
     "name": "stdout",
     "output_type": "stream",
     "text": [
      "<class 'pandas.core.frame.DataFrame'>\n",
      "RangeIndex: 11673 entries, 0 to 11672\n",
      "Data columns (total 5 columns):\n",
      " #   Column     Non-Null Count  Dtype \n",
      "---  ------     --------------  ----- \n",
      " 0   set_num    11673 non-null  object\n",
      " 1   name       11673 non-null  object\n",
      " 2   year       11673 non-null  int64 \n",
      " 3   theme_id   11673 non-null  int64 \n",
      " 4   num_parts  11673 non-null  int64 \n",
      "dtypes: int64(3), object(2)\n",
      "memory usage: 456.1+ KB\n"
     ]
    },
    {
     "data": {
      "text/plain": [
       "None"
      ]
     },
     "metadata": {},
     "output_type": "display_data"
    },
    {
     "name": "stdout",
     "output_type": "stream",
     "text": [
      "<class 'pandas.core.frame.DataFrame'>\n",
      "RangeIndex: 614 entries, 0 to 613\n",
      "Data columns (total 3 columns):\n",
      " #   Column     Non-Null Count  Dtype  \n",
      "---  ------     --------------  -----  \n",
      " 0   id         614 non-null    int64  \n",
      " 1   name       614 non-null    object \n",
      " 2   parent_id  503 non-null    float64\n",
      "dtypes: float64(1), int64(1), object(1)\n",
      "memory usage: 14.5+ KB\n"
     ]
    },
    {
     "data": {
      "text/plain": [
       "None"
      ]
     },
     "metadata": {},
     "output_type": "display_data"
    }
   ],
   "source": [
    "display(sets_df.info())\n",
    "display(themes_df.info())"
   ]
  },
  {
   "cell_type": "markdown",
   "id": "783f5118",
   "metadata": {},
   "source": [
    "The `sets` table has 5 columns and 11,673 rows with no missing values - this is a relatively clean data table.\n",
    "\n",
    "The `themes` table has 3 columns and 614 rows with 111 missing values in the `parent_id` column."
   ]
  },
  {
   "cell_type": "markdown",
   "id": "e18bf271",
   "metadata": {},
   "source": [
    "Out of curiosity, I'm inspecting all the names of the available themes. LEGO seems to have quite a large selection of themes."
   ]
  },
  {
   "cell_type": "code",
   "execution_count": 14,
   "id": "1c569c47",
   "metadata": {},
   "outputs": [
    {
     "data": {
      "text/plain": [
       "array(['Technic', 'Arctic Technic', 'Competition', 'Expert Builder',\n",
       "       'Model', 'Airport', 'Construction', 'Farm', 'Fire', 'Harbor',\n",
       "       'Off-Road', 'Race', 'Riding Cycle', 'Robot', 'Traffic',\n",
       "       'RoboRiders', 'Speed Slammers', 'Star Wars', 'Supplemental',\n",
       "       'Throwbot Slizer', 'Universal Building Set', 'Creator',\n",
       "       'Basic Model', 'Castle', 'Train', 'Creature', 'Food & Drink',\n",
       "       'Building', 'Cargo', 'Basic Set', 'Recreation', 'Mecha', 'Town',\n",
       "       'Arctic', 'City', 'Coast Guard', 'Hospital', 'Police', 'Trains',\n",
       "       'Classic Town', 'Station', 'Post Office', 'Divers', 'Extreme Team',\n",
       "       'Launch Command', 'Outback', 'Paradisa', 'Res-Q', 'Space Port',\n",
       "       'Town Jr.', 'Gas Station', 'Town Plan', 'World City', 'Racers',\n",
       "       'Drome Racers', 'Ferrari', 'Lamborghini', 'Power Racers',\n",
       "       'Radio Control', 'Speed Racer', 'Tiny Turbos', 'Track System',\n",
       "       'Williams F1', 'World Racers', 'Xalax', 'Space', 'Alien Conquest',\n",
       "       'Blacktron I', 'Blacktron II', 'Classic Space', 'Exploriens',\n",
       "       'Futuron', 'Ice Planet 2002', 'Insectoids', 'Life On Mars',\n",
       "       'M:Tron', 'Mars Mission', 'RoboForce', 'Space Police I',\n",
       "       'Space Police II', 'Space Police III', 'Spyrius', 'UFO', 'Unitron',\n",
       "       'Galaxy Squad', 'Pirates', 'Pirates I', 'Imperial Armada',\n",
       "       'Imperial Guards', 'Imperial Soldiers', 'Islanders', 'Pirates II',\n",
       "       'Pirates III', 'Modular Buildings', 'Mini', 'Bricktober',\n",
       "       'Star Wars Clone Wars', 'Star Wars Episode 2',\n",
       "       'Star Wars Episode 3', 'Star Wars Episode 4/5/6',\n",
       "       'Star Wars Episode 1', 'Star Wars Other',\n",
       "       'Ultimate Collector Series', 'Planet Series 1', 'Planet Series 2',\n",
       "       'Minifig Pack', 'Planet Series 3', 'Planet Series 4',\n",
       "       'Star Wars Rebels', 'Star Wars Expanded Universe',\n",
       "       'Star Wars Episode 7', 'Star Wars Rogue One', 'Black Falcons',\n",
       "       'Black Knights', 'Classic Castle', 'Crusaders', 'Dark Forest',\n",
       "       'Dragon Knights', 'Fantasy Era', 'Forestmen', 'Fright Knights',\n",
       "       'Kingdoms', 'Knights Kingdom I', 'Knights Kingdom II',\n",
       "       'Lion Knights', 'My Own Creation', 'Royal Knights', 'Wolfpack',\n",
       "       'Designer Sets', 'Seasonal', 'Advent', 'Belville', 'Classic Basic',\n",
       "       'Clikits', 'Friends', 'Advent Sub-Set', 'Christmas', 'Easter',\n",
       "       'Halloween', 'Thanksgiving', 'Valentine', '12V', '4.5V', '9V',\n",
       "       'My Own Train', 'RC Train', 'Harry Potter', 'Chamber of Secrets',\n",
       "       'Goblet of Fire', 'Order of the Phoenix', 'Prisoner of Azkaban',\n",
       "       \"Sorcerer's Stone\", 'Architecture', 'Skylines', 'Bulk Bricks',\n",
       "       'Mindstorms', 'NXT', 'RCX', 'EV3', 'Pirates of the Caribbean',\n",
       "       'Indiana Jones', 'Kingdom of the Crystal Skull', 'Last Crusade',\n",
       "       'Raiders of the Lost Ark', 'Temple of Doom', 'Cars', 'Ben 10',\n",
       "       'Prince of Persia', 'SpongeBob SquarePants', 'Studios',\n",
       "       'Jurassic Park III', 'Toy Story', 'Sculptures', 'Mosaic',\n",
       "       'Model Team', '4 Juniors', 'Jack Stone', 'Spider-Man',\n",
       "       'Spider-Man 2', 'Adventurers', 'Desert', 'Dino Island', 'Jungle',\n",
       "       'Orient Expedition', 'Other', 'Agents', 'Ultra Agents',\n",
       "       'Alpha Team', 'Mission Deep Sea', 'Mission Deep Freeze',\n",
       "       'Aquazone', 'Aquanauts', 'Aquaraiders I', 'Aquaraiders II',\n",
       "       'Aquasharks', 'Hydronauts', 'Stingrays', 'Atlantis', 'Avatar',\n",
       "       'Fairy-Tale', 'Golden Land', 'Playhouse', 'Bionicle', 'Agori',\n",
       "       'Barraki', 'Battle Vehicles', 'Bohrok', 'Bohrok Va', 'Bohrok-Kal',\n",
       "       'Glatorian', 'Glatorian Legends', 'Matoran of Light',\n",
       "       'Matoran of Mahri Nui', 'Matoran of Mata Nui',\n",
       "       'Matoran of Metru Nui', 'Matoran of Voya Nui', 'Mistika',\n",
       "       'Phantoka', 'Piraka', 'Playsets', 'Rahaga', 'Rahi', 'Rahkshi',\n",
       "       'Stars', 'Titans', 'Toa', 'Toa Hagah', 'Toa Hordika', 'Toa Inika',\n",
       "       'Toa Mahri', 'Toa Metru', 'Toa Nuva', 'Tohunga', 'Turaga', 'Vahki',\n",
       "       'Visorak', 'Warriors', 'Protectors', 'Skull Spiders', 'Toa Okoto',\n",
       "       'Boat', 'Building Set with People', 'Classic', 'HO 1:87 Vehicles',\n",
       "       'Jumbo Bricks', 'Vehicle', 'Wooden Box Set', 'Dino 2010',\n",
       "       'Dino Attack', 'Dinosaurs', 'Discovery', \"Disney's Mickey Mouse\",\n",
       "       'Exo-Force', 'Fabuland', 'Factory', 'FIRST LEGO League',\n",
       "       'Freestyle', 'Hero Factory', 'Heroes', 'Vehicles', 'Villains',\n",
       "       'Hobby Sets', 'Homemaker', 'Inventor', 'Island Xtreme Stunts',\n",
       "       'LEGO Brand Store', 'Monthly Mini Model Build', 'Pick A Model',\n",
       "       'Legoland', 'Western', 'Legoland Parks', 'Holiday',\n",
       "       'Master Building Academy', 'Minitalia', 'Ninja', 'Ninjago',\n",
       "       'Airjitzu', \"Pharaoh's Quest\", 'Power Functions', 'Power Miners',\n",
       "       'Primo', 'Quatro', 'Rock Raiders', 'Service Packs', 'Scala',\n",
       "       'Western\\xa0', 'Sports', 'Basketball', 'Gravity Games', 'Hockey',\n",
       "       'Soccer', 'Spybiotics', 'Time Cruisers', 'Basic', 'Ferries',\n",
       "       'Gears', 'Vikings', 'Cowboys', 'Indians', 'X-Pod', 'Znap', 'Dino',\n",
       "       'Super Heroes', 'Guardians of the Galaxy', 'Batman',\n",
       "       'Justice League', 'Avengers', 'Superman', 'Iron Man', 'X-Men',\n",
       "       'Constraction', 'Marvel', 'Jungle Rescue', 'Animals', 'Books',\n",
       "       'Gear', 'Game', 'Key Chain', 'Duplo', 'Educational and Dacta',\n",
       "       'Explore', 'Learning', 'WeDo', 'Samsonite', 'Soft Bricks',\n",
       "       'Control Lab', 'eLAB', 'Collectible Minifigures',\n",
       "       'Series 1 Minifigures', 'Series 2 Minifigures',\n",
       "       'Series 3 Minifigures', 'Series 4 Minifigures',\n",
       "       'Series 5 Minifigures', 'Series 6 Minifigures',\n",
       "       'Series 7 Minifigures', 'Series 8 Minifigures',\n",
       "       'Series 9 Minifigures', 'Series 10 Minifigures', 'Team GB',\n",
       "       'Series 11 Minifigures', 'Series 12 Minifigures',\n",
       "       'The LEGO Movie Series', 'The Simpsons', 'Series 13 Minifigures',\n",
       "       'Series 14 Minifigures', 'The Simpsons Series 2',\n",
       "       'Series 15 Minifigures', 'Disney', 'Series 16 Minifigures',\n",
       "       'DFB Minifigures', 'Monster Fighters', 'Value Packs', 'Universe',\n",
       "       'The Hobbit and Lord of the Rings', 'The Hobbit',\n",
       "       'An Unexpected Journey', 'The Desolation of Smaug',\n",
       "       'The Battle of the Five Armies', 'The Lord of the Rings',\n",
       "       'The Fellowship of the Ring', 'The Two Towers',\n",
       "       'The Return of the King', 'Teenage Mutant Ninja Turtles',\n",
       "       'Legends of Chima', 'Speedorz', 'Legend Beasts', 'The Lone Ranger',\n",
       "       'LEGO Ideas and CUUSOO', 'Minecraft', 'The LEGO Movie',\n",
       "       'Disney Princess', 'Mixels', 'Series 1', 'Series 2', 'Series 3',\n",
       "       'Series 4', 'Series 5', 'Series 6', 'Series 7', 'Series 8',\n",
       "       'Series 9', 'Fusion', 'Juniors', 'DC Comics Super Heroes',\n",
       "       'Fantasy', 'Marvel Super Heroes', 'Nijago', 'Promotional',\n",
       "       'LEGO Exclusive', 'Elves', 'Speed Champions', 'Jurassic World',\n",
       "       'Scooby-Doo', 'Dimensions', 'Nexo Knights', 'Angry Birds',\n",
       "       'Ghostbusters', 'The LEGO Batman Movie', 'Brickheadz',\n",
       "       'Series 17 Minifigures', 'Star Wars Episode 8', 'Freemakers'],\n",
       "      dtype=object)"
      ]
     },
     "execution_count": 14,
     "metadata": {},
     "output_type": "execute_result"
    }
   ],
   "source": [
    "themes_df.name.unique()"
   ]
  },
  {
   "cell_type": "code",
   "execution_count": 15,
   "id": "1de83feb",
   "metadata": {
    "scrolled": true
   },
   "outputs": [
    {
     "data": {
      "text/plain": [
       "Supplemental             18\n",
       "Fire                     12\n",
       "Airport                  11\n",
       "Traffic                   9\n",
       "Harbor                    9\n",
       "                         ..\n",
       "Studios                   1\n",
       "SpongeBob SquarePants     1\n",
       "Prince of Persia          1\n",
       "Ben 10                    1\n",
       "Freemakers                1\n",
       "Name: name, Length: 402, dtype: int64"
      ]
     },
     "execution_count": 15,
     "metadata": {},
     "output_type": "execute_result"
    }
   ],
   "source": [
    "themes_df.name.value_counts()"
   ]
  },
  {
   "cell_type": "markdown",
   "id": "d7723736",
   "metadata": {},
   "source": [
    "So it seems that there are some themes that have the same name but different ids."
   ]
  },
  {
   "cell_type": "code",
   "execution_count": 19,
   "id": "19320f82",
   "metadata": {},
   "outputs": [
    {
     "data": {
      "text/html": [
       "<div>\n",
       "<style scoped>\n",
       "    .dataframe tbody tr th:only-of-type {\n",
       "        vertical-align: middle;\n",
       "    }\n",
       "\n",
       "    .dataframe tbody tr th {\n",
       "        vertical-align: top;\n",
       "    }\n",
       "\n",
       "    .dataframe thead th {\n",
       "        text-align: right;\n",
       "    }\n",
       "</style>\n",
       "<table border=\"1\" class=\"dataframe\">\n",
       "  <thead>\n",
       "    <tr style=\"text-align: right;\">\n",
       "      <th></th>\n",
       "      <th>id</th>\n",
       "      <th>name</th>\n",
       "      <th>parent_id</th>\n",
       "    </tr>\n",
       "  </thead>\n",
       "  <tbody>\n",
       "    <tr>\n",
       "      <th>18</th>\n",
       "      <td>19</td>\n",
       "      <td>Supplemental</td>\n",
       "      <td>1.0</td>\n",
       "    </tr>\n",
       "    <tr>\n",
       "      <th>47</th>\n",
       "      <td>48</td>\n",
       "      <td>Supplemental</td>\n",
       "      <td>22.0</td>\n",
       "    </tr>\n",
       "    <tr>\n",
       "      <th>61</th>\n",
       "      <td>62</td>\n",
       "      <td>Supplemental</td>\n",
       "      <td>52.0</td>\n",
       "    </tr>\n",
       "    <tr>\n",
       "      <th>83</th>\n",
       "      <td>84</td>\n",
       "      <td>Supplemental</td>\n",
       "      <td>67.0</td>\n",
       "    </tr>\n",
       "    <tr>\n",
       "      <th>101</th>\n",
       "      <td>102</td>\n",
       "      <td>Supplemental</td>\n",
       "      <td>94.0</td>\n",
       "    </tr>\n",
       "  </tbody>\n",
       "</table>\n",
       "</div>"
      ],
      "text/plain": [
       "      id          name  parent_id\n",
       "18    19  Supplemental        1.0\n",
       "47    48  Supplemental       22.0\n",
       "61    62  Supplemental       52.0\n",
       "83    84  Supplemental       67.0\n",
       "101  102  Supplemental       94.0"
      ]
     },
     "execution_count": 19,
     "metadata": {},
     "output_type": "execute_result"
    }
   ],
   "source": [
    "themes_df[themes_df.name == 'Supplemental'].head()"
   ]
  },
  {
   "cell_type": "markdown",
   "id": "c575b9b9",
   "metadata": {},
   "source": [
    "##### Question 1: How many sets does each theme have released? By year?"
   ]
  },
  {
   "cell_type": "markdown",
   "id": "92713b81",
   "metadata": {},
   "source": [
    "To answer this question, one option is to join the 2 tables and aggregate the relevant data."
   ]
  },
  {
   "cell_type": "code",
   "execution_count": 7,
   "id": "5b01d4b6",
   "metadata": {},
   "outputs": [
    {
     "data": {
      "text/html": [
       "<div>\n",
       "<style scoped>\n",
       "    .dataframe tbody tr th:only-of-type {\n",
       "        vertical-align: middle;\n",
       "    }\n",
       "\n",
       "    .dataframe tbody tr th {\n",
       "        vertical-align: top;\n",
       "    }\n",
       "\n",
       "    .dataframe thead th {\n",
       "        text-align: right;\n",
       "    }\n",
       "</style>\n",
       "<table border=\"1\" class=\"dataframe\">\n",
       "  <thead>\n",
       "    <tr style=\"text-align: right;\">\n",
       "      <th></th>\n",
       "      <th>set_num</th>\n",
       "      <th>name_sets</th>\n",
       "      <th>year</th>\n",
       "      <th>theme_id</th>\n",
       "      <th>num_parts</th>\n",
       "      <th>id</th>\n",
       "      <th>name_themes</th>\n",
       "      <th>parent_id</th>\n",
       "    </tr>\n",
       "  </thead>\n",
       "  <tbody>\n",
       "    <tr>\n",
       "      <th>0</th>\n",
       "      <td>00-1</td>\n",
       "      <td>Weetabix Castle</td>\n",
       "      <td>1970</td>\n",
       "      <td>414</td>\n",
       "      <td>471</td>\n",
       "      <td>414</td>\n",
       "      <td>Castle</td>\n",
       "      <td>411.0</td>\n",
       "    </tr>\n",
       "    <tr>\n",
       "      <th>1</th>\n",
       "      <td>0011-2</td>\n",
       "      <td>Town Mini-Figures</td>\n",
       "      <td>1978</td>\n",
       "      <td>84</td>\n",
       "      <td>12</td>\n",
       "      <td>84</td>\n",
       "      <td>Supplemental</td>\n",
       "      <td>67.0</td>\n",
       "    </tr>\n",
       "    <tr>\n",
       "      <th>2</th>\n",
       "      <td>0011-3</td>\n",
       "      <td>Castle 2 for 1 Bonus Offer</td>\n",
       "      <td>1987</td>\n",
       "      <td>199</td>\n",
       "      <td>2</td>\n",
       "      <td>199</td>\n",
       "      <td>Lion Knights</td>\n",
       "      <td>186.0</td>\n",
       "    </tr>\n",
       "    <tr>\n",
       "      <th>3</th>\n",
       "      <td>0012-1</td>\n",
       "      <td>Space Mini-Figures</td>\n",
       "      <td>1979</td>\n",
       "      <td>143</td>\n",
       "      <td>12</td>\n",
       "      <td>143</td>\n",
       "      <td>Supplemental</td>\n",
       "      <td>126.0</td>\n",
       "    </tr>\n",
       "    <tr>\n",
       "      <th>4</th>\n",
       "      <td>0013-1</td>\n",
       "      <td>Space Mini-Figures</td>\n",
       "      <td>1979</td>\n",
       "      <td>143</td>\n",
       "      <td>12</td>\n",
       "      <td>143</td>\n",
       "      <td>Supplemental</td>\n",
       "      <td>126.0</td>\n",
       "    </tr>\n",
       "  </tbody>\n",
       "</table>\n",
       "</div>"
      ],
      "text/plain": [
       "  set_num                   name_sets  year  theme_id  num_parts   id  \\\n",
       "0    00-1             Weetabix Castle  1970       414        471  414   \n",
       "1  0011-2           Town Mini-Figures  1978        84         12   84   \n",
       "2  0011-3  Castle 2 for 1 Bonus Offer  1987       199          2  199   \n",
       "3  0012-1          Space Mini-Figures  1979       143         12  143   \n",
       "4  0013-1          Space Mini-Figures  1979       143         12  143   \n",
       "\n",
       "    name_themes  parent_id  \n",
       "0        Castle      411.0  \n",
       "1  Supplemental       67.0  \n",
       "2  Lion Knights      186.0  \n",
       "3  Supplemental      126.0  \n",
       "4  Supplemental      126.0  "
      ]
     },
     "metadata": {},
     "output_type": "display_data"
    }
   ],
   "source": [
    "sets_themes_df = sets_df.merge(themes_df, how = 'left', left_on = 'theme_id', right_on = 'id', suffixes = ('_sets', '_themes'))\n",
    "display(sets_themes_df.head())"
   ]
  },
  {
   "cell_type": "code",
   "execution_count": null,
   "id": "258abe27",
   "metadata": {},
   "outputs": [],
   "source": []
  }
 ],
 "metadata": {
  "kernelspec": {
   "display_name": "Python 3 (ipykernel)",
   "language": "python",
   "name": "python3"
  },
  "language_info": {
   "codemirror_mode": {
    "name": "ipython",
    "version": 3
   },
   "file_extension": ".py",
   "mimetype": "text/x-python",
   "name": "python",
   "nbconvert_exporter": "python",
   "pygments_lexer": "ipython3",
   "version": "3.10.9"
  }
 },
 "nbformat": 4,
 "nbformat_minor": 5
}
