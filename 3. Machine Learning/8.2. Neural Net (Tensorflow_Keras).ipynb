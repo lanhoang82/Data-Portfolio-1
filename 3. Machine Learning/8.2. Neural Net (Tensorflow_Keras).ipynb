{
 "cells": [
  {
   "cell_type": "markdown",
   "metadata": {},
   "source": [
    "# Model 8.2. Neural Network (TensorFlow/Keras)"
   ]
  },
  {
   "cell_type": "markdown",
   "metadata": {},
   "source": [
    "## Importing libraries"
   ]
  },
  {
   "cell_type": "code",
   "execution_count": 2,
   "metadata": {},
   "outputs": [],
   "source": [
    "### Importing the libraries\n",
    "import numpy as np\n",
    "import pandas as pd\n",
    "#from sklearnex import patch_sklearn\n",
    "\n",
    "#patch_sklearn()\n",
    "\n",
    "#plotting lib\n",
    "import matplotlib.pyplot as plt\n",
    "%matplotlib inline\n",
    "import seaborn as sns\n",
    "\n",
    "\n",
    "#Sklearn Lib metrics\n",
    "from sklearn.metrics import accuracy_score, balanced_accuracy_score\n",
    "from sklearn.model_selection import cross_val_score\n",
    "from sklearn.model_selection import GridSearchCV, KFold\n",
    "\n",
    "# Pipelines : \n",
    "from sklearn.pipeline import Pipeline\n",
    "from sklearn.compose import ColumnTransformer\n",
    "from sklearn import set_config\n",
    "\n",
    "#GradientBoostingClassifier and AdaboostClassifier\n",
    "import tensorflow as tf\n",
    "from tensorflow import keras\n",
    "\n",
    "#Missing values : \n",
    "from sklearn.experimental import enable_iterative_imputer\n",
    "from sklearn.impute import KNNImputer, IterativeImputer, SimpleImputer\n",
    "import missingno as msno\n",
    "\n",
    "#Dummy\n",
    "from sklearn.preprocessing import OneHotEncoder, LabelEncoder, OrdinalEncoder\n",
    "from sklearn.preprocessing import StandardScaler\n",
    "\n",
    "from sklearn.model_selection import train_test_split\n",
    "\n",
    "\n",
    "pd.set_option(\"display.max_columns\",None)"
   ]
  },
  {
   "cell_type": "markdown",
   "metadata": {},
   "source": [
    "## Importing and cleaning the data : "
   ]
  },
  {
   "cell_type": "code",
   "execution_count": 261,
   "metadata": {},
   "outputs": [],
   "source": [
    "train_df = pd.read_csv(\"Data/train.csv\")\n",
    "test_df = pd.read_csv(\"Data/test.csv\")\n",
    "#removing id for train_df\n",
    "train_df.drop(\"id\", axis = 1, inplace = True)\n",
    "test_id = test_df[[\"id\"]]\n",
    "test_df.drop(\"id\", axis = 1, inplace = True)"
   ]
  },
  {
   "cell_type": "code",
   "execution_count": 4,
   "metadata": {},
   "outputs": [],
   "source": [
    "# Transforming object into categories \n",
    "# for train\n",
    "for i in train_df.columns:\n",
    "    if train_df[i].dtypes == \"object\":\n",
    "        train_df[i] = train_df[i].astype(\"category\")\n",
    "# For test\n",
    "for i in test_df.columns:\n",
    "    if test_df[i].dtypes == \"object\":\n",
    "        test_df[i] = test_df[i].astype(\"category\")"
   ]
  },
  {
   "cell_type": "code",
   "execution_count": 10,
   "metadata": {},
   "outputs": [],
   "source": [
    "X = train_df.drop(\"high_income\", axis = 1)\n",
    "y = train_df[\"high_income\"]\n",
    "\n",
    "# Grouping our features that are categories in one vector\n",
    "# Same for numeric\n",
    "\n",
    "categorical_features = [i for i in X.columns if X[i].dtype.name == \"category\"]\n",
    "numerical_features = [i for i in X.columns if X[i].dtype.name != \"category\"]"
   ]
  },
  {
   "cell_type": "markdown",
   "metadata": {},
   "source": [
    "## Splitting the data into a train and a validation set"
   ]
  },
  {
   "cell_type": "code",
   "execution_count": 143,
   "metadata": {},
   "outputs": [
    {
     "data": {
      "text/plain": [
       "2110     0\n",
       "44057    0\n",
       "37761    0\n",
       "44201    1\n",
       "31675    0\n",
       "        ..\n",
       "30863    0\n",
       "20221    1\n",
       "35500    0\n",
       "40565    0\n",
       "44910    0\n",
       "Name: high_income, Length: 43685, dtype: int64"
      ]
     },
     "execution_count": 143,
     "metadata": {},
     "output_type": "execute_result"
    }
   ],
   "source": [
    "X_train, X_valid, y_train, y_valid = train_test_split(X,y,test_size=0.2, random_state=1, stratify=y)\n",
    "y_train"
   ]
  },
  {
   "cell_type": "markdown",
   "metadata": {},
   "source": [
    "## Creating a pipeline in order to process the data "
   ]
  },
  {
   "cell_type": "code",
   "execution_count": 144,
   "metadata": {},
   "outputs": [
    {
     "data": {
      "text/html": [
       "<style>#sk-container-id-2 {color: black;background-color: white;}#sk-container-id-2 pre{padding: 0;}#sk-container-id-2 div.sk-toggleable {background-color: white;}#sk-container-id-2 label.sk-toggleable__label {cursor: pointer;display: block;width: 100%;margin-bottom: 0;padding: 0.3em;box-sizing: border-box;text-align: center;}#sk-container-id-2 label.sk-toggleable__label-arrow:before {content: \"▸\";float: left;margin-right: 0.25em;color: #696969;}#sk-container-id-2 label.sk-toggleable__label-arrow:hover:before {color: black;}#sk-container-id-2 div.sk-estimator:hover label.sk-toggleable__label-arrow:before {color: black;}#sk-container-id-2 div.sk-toggleable__content {max-height: 0;max-width: 0;overflow: hidden;text-align: left;background-color: #f0f8ff;}#sk-container-id-2 div.sk-toggleable__content pre {margin: 0.2em;color: black;border-radius: 0.25em;background-color: #f0f8ff;}#sk-container-id-2 input.sk-toggleable__control:checked~div.sk-toggleable__content {max-height: 200px;max-width: 100%;overflow: auto;}#sk-container-id-2 input.sk-toggleable__control:checked~label.sk-toggleable__label-arrow:before {content: \"▾\";}#sk-container-id-2 div.sk-estimator input.sk-toggleable__control:checked~label.sk-toggleable__label {background-color: #d4ebff;}#sk-container-id-2 div.sk-label input.sk-toggleable__control:checked~label.sk-toggleable__label {background-color: #d4ebff;}#sk-container-id-2 input.sk-hidden--visually {border: 0;clip: rect(1px 1px 1px 1px);clip: rect(1px, 1px, 1px, 1px);height: 1px;margin: -1px;overflow: hidden;padding: 0;position: absolute;width: 1px;}#sk-container-id-2 div.sk-estimator {font-family: monospace;background-color: #f0f8ff;border: 1px dotted black;border-radius: 0.25em;box-sizing: border-box;margin-bottom: 0.5em;}#sk-container-id-2 div.sk-estimator:hover {background-color: #d4ebff;}#sk-container-id-2 div.sk-parallel-item::after {content: \"\";width: 100%;border-bottom: 1px solid gray;flex-grow: 1;}#sk-container-id-2 div.sk-label:hover label.sk-toggleable__label {background-color: #d4ebff;}#sk-container-id-2 div.sk-serial::before {content: \"\";position: absolute;border-left: 1px solid gray;box-sizing: border-box;top: 0;bottom: 0;left: 50%;z-index: 0;}#sk-container-id-2 div.sk-serial {display: flex;flex-direction: column;align-items: center;background-color: white;padding-right: 0.2em;padding-left: 0.2em;position: relative;}#sk-container-id-2 div.sk-item {position: relative;z-index: 1;}#sk-container-id-2 div.sk-parallel {display: flex;align-items: stretch;justify-content: center;background-color: white;position: relative;}#sk-container-id-2 div.sk-item::before, #sk-container-id-2 div.sk-parallel-item::before {content: \"\";position: absolute;border-left: 1px solid gray;box-sizing: border-box;top: 0;bottom: 0;left: 50%;z-index: -1;}#sk-container-id-2 div.sk-parallel-item {display: flex;flex-direction: column;z-index: 1;position: relative;background-color: white;}#sk-container-id-2 div.sk-parallel-item:first-child::after {align-self: flex-end;width: 50%;}#sk-container-id-2 div.sk-parallel-item:last-child::after {align-self: flex-start;width: 50%;}#sk-container-id-2 div.sk-parallel-item:only-child::after {width: 0;}#sk-container-id-2 div.sk-dashed-wrapped {border: 1px dashed gray;margin: 0 0.4em 0.5em 0.4em;box-sizing: border-box;padding-bottom: 0.4em;background-color: white;}#sk-container-id-2 div.sk-label label {font-family: monospace;font-weight: bold;display: inline-block;line-height: 1.2em;}#sk-container-id-2 div.sk-label-container {text-align: center;}#sk-container-id-2 div.sk-container {/* jupyter's `normalize.less` sets `[hidden] { display: none; }` but bootstrap.min.css set `[hidden] { display: none !important; }` so we also need the `!important` here to be able to override the default hidden behavior on the sphinx rendered scikit-learn.org. See: https://github.com/scikit-learn/scikit-learn/issues/21755 */display: inline-block !important;position: relative;}#sk-container-id-2 div.sk-text-repr-fallback {display: none;}</style><div id=\"sk-container-id-2\" class=\"sk-top-container\"><div class=\"sk-text-repr-fallback\"><pre>Pipeline(steps=[(&#x27;preprocessor&#x27;,\n",
       "                 ColumnTransformer(transformers=[(&#x27;num&#x27;,\n",
       "                                                  Pipeline(steps=[(&#x27;imputer_num&#x27;,\n",
       "                                                                   SimpleImputer()),\n",
       "                                                                  (&#x27;scaler&#x27;,\n",
       "                                                                   StandardScaler())]),\n",
       "                                                  [&#x27;occ_code_level2&#x27;, &#x27;age&#x27;,\n",
       "                                                   &#x27;stock_dividends&#x27;,\n",
       "                                                   &#x27;wage_per_hour&#x27;,\n",
       "                                                   &#x27;capital_losses&#x27;,\n",
       "                                                   &#x27;own_or_self&#x27;,\n",
       "                                                   &#x27;ind_code_level2&#x27;,\n",
       "                                                   &#x27;capital_gains&#x27;,\n",
       "                                                   &#x27;weeks_worked&#x27;, &#x27;num_emp&#x27;,\n",
       "                                                   &#x27;vet_benefits&#x27;]),\n",
       "                                                 (&#x27;cat&#x27;,\n",
       "                                                  Pipeline(steps=[(&#x27;imputer_ca...\n",
       "                                                   &#x27;hisp_origin&#x27;, &#x27;education&#x27;,\n",
       "                                                   &#x27;vet_question&#x27;,\n",
       "                                                   &#x27;country_self&#x27;,\n",
       "                                                   &#x27;mig_move_reg&#x27;, &#x27;hs_college&#x27;,\n",
       "                                                   &#x27;class_worker&#x27;, &#x27;mig_same&#x27;,\n",
       "                                                   &#x27;unemp_reason&#x27;,\n",
       "                                                   &#x27;state_prev_res&#x27;, &#x27;race&#x27;,\n",
       "                                                   &#x27;country_mother&#x27;, &#x27;sex&#x27;,\n",
       "                                                   &#x27;ind_code_level1&#x27;,\n",
       "                                                   &#x27;citizenship&#x27;,\n",
       "                                                   &#x27;union_member&#x27;,\n",
       "                                                   &#x27;fam_under_18&#x27;,\n",
       "                                                   &#x27;marital_stat&#x27;,\n",
       "                                                   &#x27;region_prev_res&#x27;,\n",
       "                                                   &#x27;mig_chg_reg&#x27;,\n",
       "                                                   &#x27;country_father&#x27;,\n",
       "                                                   &#x27;occ_code_level1&#x27;,\n",
       "                                                   &#x27;full_or_part_emp&#x27;,\n",
       "                                                   &#x27;det_hh_fam_stat&#x27;])]))])</pre><b>In a Jupyter environment, please rerun this cell to show the HTML representation or trust the notebook. <br />On GitHub, the HTML representation is unable to render, please try loading this page with nbviewer.org.</b></div><div class=\"sk-container\" hidden><div class=\"sk-item sk-dashed-wrapped\"><div class=\"sk-label-container\"><div class=\"sk-label sk-toggleable\"><input class=\"sk-toggleable__control sk-hidden--visually\" id=\"sk-estimator-id-9\" type=\"checkbox\" ><label for=\"sk-estimator-id-9\" class=\"sk-toggleable__label sk-toggleable__label-arrow\">Pipeline</label><div class=\"sk-toggleable__content\"><pre>Pipeline(steps=[(&#x27;preprocessor&#x27;,\n",
       "                 ColumnTransformer(transformers=[(&#x27;num&#x27;,\n",
       "                                                  Pipeline(steps=[(&#x27;imputer_num&#x27;,\n",
       "                                                                   SimpleImputer()),\n",
       "                                                                  (&#x27;scaler&#x27;,\n",
       "                                                                   StandardScaler())]),\n",
       "                                                  [&#x27;occ_code_level2&#x27;, &#x27;age&#x27;,\n",
       "                                                   &#x27;stock_dividends&#x27;,\n",
       "                                                   &#x27;wage_per_hour&#x27;,\n",
       "                                                   &#x27;capital_losses&#x27;,\n",
       "                                                   &#x27;own_or_self&#x27;,\n",
       "                                                   &#x27;ind_code_level2&#x27;,\n",
       "                                                   &#x27;capital_gains&#x27;,\n",
       "                                                   &#x27;weeks_worked&#x27;, &#x27;num_emp&#x27;,\n",
       "                                                   &#x27;vet_benefits&#x27;]),\n",
       "                                                 (&#x27;cat&#x27;,\n",
       "                                                  Pipeline(steps=[(&#x27;imputer_ca...\n",
       "                                                   &#x27;hisp_origin&#x27;, &#x27;education&#x27;,\n",
       "                                                   &#x27;vet_question&#x27;,\n",
       "                                                   &#x27;country_self&#x27;,\n",
       "                                                   &#x27;mig_move_reg&#x27;, &#x27;hs_college&#x27;,\n",
       "                                                   &#x27;class_worker&#x27;, &#x27;mig_same&#x27;,\n",
       "                                                   &#x27;unemp_reason&#x27;,\n",
       "                                                   &#x27;state_prev_res&#x27;, &#x27;race&#x27;,\n",
       "                                                   &#x27;country_mother&#x27;, &#x27;sex&#x27;,\n",
       "                                                   &#x27;ind_code_level1&#x27;,\n",
       "                                                   &#x27;citizenship&#x27;,\n",
       "                                                   &#x27;union_member&#x27;,\n",
       "                                                   &#x27;fam_under_18&#x27;,\n",
       "                                                   &#x27;marital_stat&#x27;,\n",
       "                                                   &#x27;region_prev_res&#x27;,\n",
       "                                                   &#x27;mig_chg_reg&#x27;,\n",
       "                                                   &#x27;country_father&#x27;,\n",
       "                                                   &#x27;occ_code_level1&#x27;,\n",
       "                                                   &#x27;full_or_part_emp&#x27;,\n",
       "                                                   &#x27;det_hh_fam_stat&#x27;])]))])</pre></div></div></div><div class=\"sk-serial\"><div class=\"sk-item sk-dashed-wrapped\"><div class=\"sk-label-container\"><div class=\"sk-label sk-toggleable\"><input class=\"sk-toggleable__control sk-hidden--visually\" id=\"sk-estimator-id-10\" type=\"checkbox\" ><label for=\"sk-estimator-id-10\" class=\"sk-toggleable__label sk-toggleable__label-arrow\">preprocessor: ColumnTransformer</label><div class=\"sk-toggleable__content\"><pre>ColumnTransformer(transformers=[(&#x27;num&#x27;,\n",
       "                                 Pipeline(steps=[(&#x27;imputer_num&#x27;,\n",
       "                                                  SimpleImputer()),\n",
       "                                                 (&#x27;scaler&#x27;, StandardScaler())]),\n",
       "                                 [&#x27;occ_code_level2&#x27;, &#x27;age&#x27;, &#x27;stock_dividends&#x27;,\n",
       "                                  &#x27;wage_per_hour&#x27;, &#x27;capital_losses&#x27;,\n",
       "                                  &#x27;own_or_self&#x27;, &#x27;ind_code_level2&#x27;,\n",
       "                                  &#x27;capital_gains&#x27;, &#x27;weeks_worked&#x27;, &#x27;num_emp&#x27;,\n",
       "                                  &#x27;vet_benefits&#x27;]),\n",
       "                                (&#x27;cat&#x27;,\n",
       "                                 Pipeline(steps=[(&#x27;imputer_cat&#x27;,\n",
       "                                                  SimpleImputer(fill_value=&#x27;Mis...\n",
       "                                  &#x27;hisp_origin&#x27;, &#x27;education&#x27;, &#x27;vet_question&#x27;,\n",
       "                                  &#x27;country_self&#x27;, &#x27;mig_move_reg&#x27;, &#x27;hs_college&#x27;,\n",
       "                                  &#x27;class_worker&#x27;, &#x27;mig_same&#x27;, &#x27;unemp_reason&#x27;,\n",
       "                                  &#x27;state_prev_res&#x27;, &#x27;race&#x27;, &#x27;country_mother&#x27;,\n",
       "                                  &#x27;sex&#x27;, &#x27;ind_code_level1&#x27;, &#x27;citizenship&#x27;,\n",
       "                                  &#x27;union_member&#x27;, &#x27;fam_under_18&#x27;,\n",
       "                                  &#x27;marital_stat&#x27;, &#x27;region_prev_res&#x27;,\n",
       "                                  &#x27;mig_chg_reg&#x27;, &#x27;country_father&#x27;,\n",
       "                                  &#x27;occ_code_level1&#x27;, &#x27;full_or_part_emp&#x27;,\n",
       "                                  &#x27;det_hh_fam_stat&#x27;])])</pre></div></div></div><div class=\"sk-parallel\"><div class=\"sk-parallel-item\"><div class=\"sk-item\"><div class=\"sk-label-container\"><div class=\"sk-label sk-toggleable\"><input class=\"sk-toggleable__control sk-hidden--visually\" id=\"sk-estimator-id-11\" type=\"checkbox\" ><label for=\"sk-estimator-id-11\" class=\"sk-toggleable__label sk-toggleable__label-arrow\">num</label><div class=\"sk-toggleable__content\"><pre>[&#x27;occ_code_level2&#x27;, &#x27;age&#x27;, &#x27;stock_dividends&#x27;, &#x27;wage_per_hour&#x27;, &#x27;capital_losses&#x27;, &#x27;own_or_self&#x27;, &#x27;ind_code_level2&#x27;, &#x27;capital_gains&#x27;, &#x27;weeks_worked&#x27;, &#x27;num_emp&#x27;, &#x27;vet_benefits&#x27;]</pre></div></div></div><div class=\"sk-serial\"><div class=\"sk-item\"><div class=\"sk-serial\"><div class=\"sk-item\"><div class=\"sk-estimator sk-toggleable\"><input class=\"sk-toggleable__control sk-hidden--visually\" id=\"sk-estimator-id-12\" type=\"checkbox\" ><label for=\"sk-estimator-id-12\" class=\"sk-toggleable__label sk-toggleable__label-arrow\">SimpleImputer</label><div class=\"sk-toggleable__content\"><pre>SimpleImputer()</pre></div></div></div><div class=\"sk-item\"><div class=\"sk-estimator sk-toggleable\"><input class=\"sk-toggleable__control sk-hidden--visually\" id=\"sk-estimator-id-13\" type=\"checkbox\" ><label for=\"sk-estimator-id-13\" class=\"sk-toggleable__label sk-toggleable__label-arrow\">StandardScaler</label><div class=\"sk-toggleable__content\"><pre>StandardScaler()</pre></div></div></div></div></div></div></div></div><div class=\"sk-parallel-item\"><div class=\"sk-item\"><div class=\"sk-label-container\"><div class=\"sk-label sk-toggleable\"><input class=\"sk-toggleable__control sk-hidden--visually\" id=\"sk-estimator-id-14\" type=\"checkbox\" ><label for=\"sk-estimator-id-14\" class=\"sk-toggleable__label sk-toggleable__label-arrow\">cat</label><div class=\"sk-toggleable__content\"><pre>[&#x27;mig_chg_msa&#x27;, &#x27;tax_filer_stat&#x27;, &#x27;det_hh_summ&#x27;, &#x27;mig_prev_sunbelt&#x27;, &#x27;hisp_origin&#x27;, &#x27;education&#x27;, &#x27;vet_question&#x27;, &#x27;country_self&#x27;, &#x27;mig_move_reg&#x27;, &#x27;hs_college&#x27;, &#x27;class_worker&#x27;, &#x27;mig_same&#x27;, &#x27;unemp_reason&#x27;, &#x27;state_prev_res&#x27;, &#x27;race&#x27;, &#x27;country_mother&#x27;, &#x27;sex&#x27;, &#x27;ind_code_level1&#x27;, &#x27;citizenship&#x27;, &#x27;union_member&#x27;, &#x27;fam_under_18&#x27;, &#x27;marital_stat&#x27;, &#x27;region_prev_res&#x27;, &#x27;mig_chg_reg&#x27;, &#x27;country_father&#x27;, &#x27;occ_code_level1&#x27;, &#x27;full_or_part_emp&#x27;, &#x27;det_hh_fam_stat&#x27;]</pre></div></div></div><div class=\"sk-serial\"><div class=\"sk-item\"><div class=\"sk-serial\"><div class=\"sk-item\"><div class=\"sk-estimator sk-toggleable\"><input class=\"sk-toggleable__control sk-hidden--visually\" id=\"sk-estimator-id-15\" type=\"checkbox\" ><label for=\"sk-estimator-id-15\" class=\"sk-toggleable__label sk-toggleable__label-arrow\">SimpleImputer</label><div class=\"sk-toggleable__content\"><pre>SimpleImputer(fill_value=&#x27;Missing&#x27;, strategy=&#x27;constant&#x27;)</pre></div></div></div><div class=\"sk-item\"><div class=\"sk-estimator sk-toggleable\"><input class=\"sk-toggleable__control sk-hidden--visually\" id=\"sk-estimator-id-16\" type=\"checkbox\" ><label for=\"sk-estimator-id-16\" class=\"sk-toggleable__label sk-toggleable__label-arrow\">OneHotEncoder</label><div class=\"sk-toggleable__content\"><pre>OneHotEncoder(handle_unknown=&#x27;ignore&#x27;, sparse=False)</pre></div></div></div></div></div></div></div></div></div></div></div></div></div></div>"
      ],
      "text/plain": [
       "Pipeline(steps=[('preprocessor',\n",
       "                 ColumnTransformer(transformers=[('num',\n",
       "                                                  Pipeline(steps=[('imputer_num',\n",
       "                                                                   SimpleImputer()),\n",
       "                                                                  ('scaler',\n",
       "                                                                   StandardScaler())]),\n",
       "                                                  ['occ_code_level2', 'age',\n",
       "                                                   'stock_dividends',\n",
       "                                                   'wage_per_hour',\n",
       "                                                   'capital_losses',\n",
       "                                                   'own_or_self',\n",
       "                                                   'ind_code_level2',\n",
       "                                                   'capital_gains',\n",
       "                                                   'weeks_worked', 'num_emp',\n",
       "                                                   'vet_benefits']),\n",
       "                                                 ('cat',\n",
       "                                                  Pipeline(steps=[('imputer_ca...\n",
       "                                                   'hisp_origin', 'education',\n",
       "                                                   'vet_question',\n",
       "                                                   'country_self',\n",
       "                                                   'mig_move_reg', 'hs_college',\n",
       "                                                   'class_worker', 'mig_same',\n",
       "                                                   'unemp_reason',\n",
       "                                                   'state_prev_res', 'race',\n",
       "                                                   'country_mother', 'sex',\n",
       "                                                   'ind_code_level1',\n",
       "                                                   'citizenship',\n",
       "                                                   'union_member',\n",
       "                                                   'fam_under_18',\n",
       "                                                   'marital_stat',\n",
       "                                                   'region_prev_res',\n",
       "                                                   'mig_chg_reg',\n",
       "                                                   'country_father',\n",
       "                                                   'occ_code_level1',\n",
       "                                                   'full_or_part_emp',\n",
       "                                                   'det_hh_fam_stat'])]))])"
      ]
     },
     "execution_count": 144,
     "metadata": {},
     "output_type": "execute_result"
    }
   ],
   "source": [
    "#Pipeline to process the data before \n",
    "numeric_transformer = Pipeline(\n",
    "    steps=[(\"imputer_num\", SimpleImputer(strategy=\"mean\")),\n",
    "           (\"scaler\", StandardScaler())]\n",
    ")\n",
    "\n",
    "categorical_transformer = Pipeline(\n",
    "    steps=[(\"imputer_cat\", SimpleImputer(strategy=\"constant\", fill_value=\"Missing\")),\n",
    "           \n",
    "           (\"encoder\" , OneHotEncoder(handle_unknown=\"ignore\", sparse=False))]\n",
    ")\n",
    "\n",
    "\n",
    "\n",
    "preprocessor = ColumnTransformer(\n",
    "    transformers=[\n",
    "        (\"num\", numeric_transformer, numerical_features),\n",
    "        (\"cat\", categorical_transformer, categorical_features),\n",
    "    ]\n",
    ")\n",
    "\n",
    "# Append classifier to preprocessing pipeline.\n",
    "# Now we have a full prediction pipeline.\n",
    "clf = Pipeline(\n",
    "    steps=[(\"preprocessor\", preprocessor)]\n",
    ")\n",
    "\n",
    "\n",
    "set_config(display=\"diagram\")\n",
    "clf"
   ]
  },
  {
   "cell_type": "code",
   "execution_count": 264,
   "metadata": {},
   "outputs": [
    {
     "data": {
      "text/plain": [
       "array([[-8.27689714e-01, -2.02540599e+00, -1.73594115e-01, ...,\n",
       "         0.00000000e+00,  0.00000000e+00,  0.00000000e+00],\n",
       "       [ 8.31482797e-01,  3.95946317e-01, -1.73594115e-01, ...,\n",
       "         0.00000000e+00,  0.00000000e+00,  0.00000000e+00],\n",
       "       [ 8.31482797e-01,  0.00000000e+00, -2.38474242e-17, ...,\n",
       "         0.00000000e+00,  0.00000000e+00,  1.00000000e+00],\n",
       "       ...,\n",
       "       [-8.27689714e-01,  0.00000000e+00, -1.73594115e-01, ...,\n",
       "         0.00000000e+00,  0.00000000e+00,  0.00000000e+00],\n",
       "       [-8.27689714e-01,  1.22430368e+00, -1.73594115e-01, ...,\n",
       "         0.00000000e+00,  0.00000000e+00,  0.00000000e+00],\n",
       "       [ 9.03620732e-01,  0.00000000e+00, -1.73594115e-01, ...,\n",
       "         0.00000000e+00,  0.00000000e+00,  1.00000000e+00]])"
      ]
     },
     "execution_count": 264,
     "metadata": {},
     "output_type": "execute_result"
    }
   ],
   "source": [
    "new_x_train = clf.fit_transform(X_train)\n",
    "new_x_valid = clf.transform(X_valid)\n",
    "new_x_test = clf.transform(test_df)\n",
    "new_x_train"
   ]
  },
  {
   "cell_type": "code",
   "execution_count": 146,
   "metadata": {},
   "outputs": [
    {
     "name": "stdout",
     "output_type": "stream",
     "text": [
      "(43685, 408)\n",
      "(10922, 408)\n"
     ]
    }
   ],
   "source": [
    "print(new_x_train.shape)\n",
    "print(new_x_valid.shape)"
   ]
  },
  {
   "cell_type": "markdown",
   "metadata": {},
   "source": [
    "## Running some Neural net models using Keras"
   ]
  },
  {
   "cell_type": "code",
   "execution_count": 147,
   "metadata": {},
   "outputs": [],
   "source": [
    "model = keras.models.Sequential([\n",
    "    keras.layers.Dense(units=300, activation=\"relu\"),\n",
    "    keras.layers.Dense(units=100, activation=\"relu\"),\n",
    "    keras.layers.Dense(units=2,  activation=\"softmax\")\n",
    "])\n",
    "\n",
    "model.compile(loss = \"sparse_categorical_crossentropy\", # as y is encoded as a vector of labels and not as a one hot matrix\n",
    "              optimizer = \"sgd\",\n",
    "              metrics = [\"accuracy\"])\n"
   ]
  },
  {
   "cell_type": "code",
   "execution_count": 148,
   "metadata": {},
   "outputs": [
    {
     "name": "stdout",
     "output_type": "stream",
     "text": [
      "Epoch 1/20\n",
      "683/683 [==============================] - 2s 3ms/step - loss: 0.3902 - accuracy: 0.8138 - val_loss: 0.3476 - val_accuracy: 0.8390\n",
      "Epoch 2/20\n",
      "683/683 [==============================] - 2s 3ms/step - loss: 0.3296 - accuracy: 0.8476 - val_loss: 0.3318 - val_accuracy: 0.8474\n",
      "Epoch 3/20\n",
      "683/683 [==============================] - 2s 3ms/step - loss: 0.3187 - accuracy: 0.8526 - val_loss: 0.3254 - val_accuracy: 0.8512\n",
      "Epoch 4/20\n",
      "683/683 [==============================] - 2s 3ms/step - loss: 0.3136 - accuracy: 0.8563 - val_loss: 0.3223 - val_accuracy: 0.8526\n",
      "Epoch 5/20\n",
      "683/683 [==============================] - 2s 3ms/step - loss: 0.3098 - accuracy: 0.8582 - val_loss: 0.3227 - val_accuracy: 0.8527\n",
      "Epoch 6/20\n",
      "683/683 [==============================] - 2s 3ms/step - loss: 0.3074 - accuracy: 0.8594 - val_loss: 0.3240 - val_accuracy: 0.8528\n",
      "Epoch 7/20\n",
      "683/683 [==============================] - 2s 3ms/step - loss: 0.3053 - accuracy: 0.8597 - val_loss: 0.3178 - val_accuracy: 0.8559\n",
      "Epoch 8/20\n",
      "683/683 [==============================] - 2s 3ms/step - loss: 0.3032 - accuracy: 0.8620 - val_loss: 0.3157 - val_accuracy: 0.8579\n",
      "Epoch 9/20\n",
      "683/683 [==============================] - 2s 3ms/step - loss: 0.3017 - accuracy: 0.8624 - val_loss: 0.3144 - val_accuracy: 0.8571\n",
      "Epoch 10/20\n",
      "683/683 [==============================] - 2s 3ms/step - loss: 0.3005 - accuracy: 0.8633 - val_loss: 0.3149 - val_accuracy: 0.8566\n",
      "Epoch 11/20\n",
      "683/683 [==============================] - 2s 3ms/step - loss: 0.2989 - accuracy: 0.8646 - val_loss: 0.3133 - val_accuracy: 0.8582\n",
      "Epoch 12/20\n",
      "683/683 [==============================] - 2s 3ms/step - loss: 0.2976 - accuracy: 0.8656 - val_loss: 0.3170 - val_accuracy: 0.8559\n",
      "Epoch 13/20\n",
      "683/683 [==============================] - 2s 3ms/step - loss: 0.2966 - accuracy: 0.8658 - val_loss: 0.3200 - val_accuracy: 0.8555\n",
      "Epoch 14/20\n",
      "683/683 [==============================] - 2s 3ms/step - loss: 0.2952 - accuracy: 0.8664 - val_loss: 0.3108 - val_accuracy: 0.8604\n",
      "Epoch 15/20\n",
      "683/683 [==============================] - 2s 3ms/step - loss: 0.2941 - accuracy: 0.8673 - val_loss: 0.3147 - val_accuracy: 0.8576\n",
      "Epoch 16/20\n",
      "683/683 [==============================] - 2s 3ms/step - loss: 0.2930 - accuracy: 0.8682 - val_loss: 0.3100 - val_accuracy: 0.8599\n",
      "Epoch 17/20\n",
      "683/683 [==============================] - 2s 3ms/step - loss: 0.2920 - accuracy: 0.8678 - val_loss: 0.3108 - val_accuracy: 0.8585\n",
      "Epoch 18/20\n",
      "683/683 [==============================] - 2s 3ms/step - loss: 0.2910 - accuracy: 0.8686 - val_loss: 0.3174 - val_accuracy: 0.8547\n",
      "Epoch 19/20\n",
      "683/683 [==============================] - 2s 3ms/step - loss: 0.2903 - accuracy: 0.8691 - val_loss: 0.3131 - val_accuracy: 0.8563\n",
      "Epoch 20/20\n",
      "683/683 [==============================] - 3s 4ms/step - loss: 0.2892 - accuracy: 0.8706 - val_loss: 0.3105 - val_accuracy: 0.8590\n"
     ]
    }
   ],
   "source": [
    "history = model.fit(x=new_x_train, y=y_train,\n",
    "                    validation_data=(new_x_valid, y_valid),\n",
    "                    batch_size = 64,\n",
    "                    epochs=20)"
   ]
  },
  {
   "cell_type": "markdown",
   "metadata": {},
   "source": [
    "## Another attempt : "
   ]
  },
  {
   "cell_type": "code",
   "execution_count": 149,
   "metadata": {},
   "outputs": [],
   "source": [
    "model = keras.models.Sequential([\n",
    "    keras.layers.Dense(units=300, activation=\"relu\"),\n",
    "    keras.layers.Dense(units=50, activation=\"relu\"),\n",
    "    keras.layers.Dense(units=2,  activation=\"softmax\")\n",
    "])\n",
    "\n",
    "model.compile(loss = \"sparse_categorical_crossentropy\", # as y is encoded as a vector of labels and not as a one hot matrix\n",
    "              optimizer = \"sgd\",\n",
    "              metrics = [\"accuracy\"])\n",
    "early_stopping_cb = keras.callbacks.EarlyStopping(patience=5, restore_best_weights=True, verbose=1)\n"
   ]
  },
  {
   "cell_type": "code",
   "execution_count": 150,
   "metadata": {},
   "outputs": [
    {
     "name": "stdout",
     "output_type": "stream",
     "text": [
      "Epoch 1/20\n",
      "683/683 [==============================] - 2s 3ms/step - loss: 0.3899 - accuracy: 0.8141 - val_loss: 0.3459 - val_accuracy: 0.8392\n",
      "Epoch 2/20\n",
      "683/683 [==============================] - 2s 3ms/step - loss: 0.3280 - accuracy: 0.8477 - val_loss: 0.3314 - val_accuracy: 0.8471\n",
      "Epoch 3/20\n",
      "683/683 [==============================] - 2s 3ms/step - loss: 0.3181 - accuracy: 0.8537 - val_loss: 0.3268 - val_accuracy: 0.8513\n",
      "Epoch 4/20\n",
      "683/683 [==============================] - 2s 3ms/step - loss: 0.3124 - accuracy: 0.8570 - val_loss: 0.3218 - val_accuracy: 0.8537\n",
      "Epoch 5/20\n",
      "683/683 [==============================] - 2s 3ms/step - loss: 0.3090 - accuracy: 0.8578 - val_loss: 0.3197 - val_accuracy: 0.8535\n",
      "Epoch 6/20\n",
      "683/683 [==============================] - 2s 3ms/step - loss: 0.3065 - accuracy: 0.8603 - val_loss: 0.3243 - val_accuracy: 0.8550\n",
      "Epoch 7/20\n",
      "683/683 [==============================] - 2s 3ms/step - loss: 0.3042 - accuracy: 0.8610 - val_loss: 0.3180 - val_accuracy: 0.8552\n",
      "Epoch 8/20\n",
      "683/683 [==============================] - 2s 3ms/step - loss: 0.3022 - accuracy: 0.8629 - val_loss: 0.3157 - val_accuracy: 0.8552\n",
      "Epoch 9/20\n",
      "683/683 [==============================] - 2s 3ms/step - loss: 0.3006 - accuracy: 0.8634 - val_loss: 0.3140 - val_accuracy: 0.8574\n",
      "Epoch 10/20\n",
      "683/683 [==============================] - 2s 4ms/step - loss: 0.2990 - accuracy: 0.8631 - val_loss: 0.3150 - val_accuracy: 0.8581\n",
      "Epoch 11/20\n",
      "683/683 [==============================] - 2s 4ms/step - loss: 0.2979 - accuracy: 0.8651 - val_loss: 0.3119 - val_accuracy: 0.8581\n",
      "Epoch 12/20\n",
      "683/683 [==============================] - 2s 4ms/step - loss: 0.2964 - accuracy: 0.8657 - val_loss: 0.3171 - val_accuracy: 0.8550\n",
      "Epoch 13/20\n",
      "683/683 [==============================] - 2s 3ms/step - loss: 0.2950 - accuracy: 0.8667 - val_loss: 0.3122 - val_accuracy: 0.8598\n",
      "Epoch 14/20\n",
      "683/683 [==============================] - 3s 4ms/step - loss: 0.2938 - accuracy: 0.8671 - val_loss: 0.3116 - val_accuracy: 0.8600\n",
      "Epoch 15/20\n",
      "683/683 [==============================] - 3s 4ms/step - loss: 0.2928 - accuracy: 0.8684 - val_loss: 0.3104 - val_accuracy: 0.8594\n",
      "Epoch 16/20\n",
      "683/683 [==============================] - 2s 3ms/step - loss: 0.2911 - accuracy: 0.8687 - val_loss: 0.3182 - val_accuracy: 0.8550\n",
      "Epoch 17/20\n",
      "683/683 [==============================] - 2s 4ms/step - loss: 0.2904 - accuracy: 0.8692 - val_loss: 0.3104 - val_accuracy: 0.8603\n",
      "Epoch 18/20\n",
      "683/683 [==============================] - 2s 3ms/step - loss: 0.2893 - accuracy: 0.8702 - val_loss: 0.3089 - val_accuracy: 0.8606\n",
      "Epoch 19/20\n",
      "683/683 [==============================] - 3s 4ms/step - loss: 0.2884 - accuracy: 0.8703 - val_loss: 0.3094 - val_accuracy: 0.8595\n",
      "Epoch 20/20\n",
      "683/683 [==============================] - 2s 4ms/step - loss: 0.2874 - accuracy: 0.8713 - val_loss: 0.3090 - val_accuracy: 0.8597\n"
     ]
    }
   ],
   "source": [
    "history = model.fit(x=new_x_train, y=y_train,\n",
    "                    validation_data=(new_x_valid, y_valid),\n",
    "                    batch_size = 64,\n",
    "                    epochs=20,callbacks=[early_stopping_cb])"
   ]
  },
  {
   "cell_type": "code",
   "execution_count": 151,
   "metadata": {},
   "outputs": [
    {
     "name": "stdout",
     "output_type": "stream",
     "text": [
      "342/342 [==============================] - 1s 2ms/step\n"
     ]
    }
   ],
   "source": [
    "y_pred = np.argmax(model.predict(new_x_valid), axis = 1)"
   ]
  },
  {
   "cell_type": "code",
   "execution_count": 152,
   "metadata": {},
   "outputs": [
    {
     "data": {
      "text/plain": [
       "array([1, 0, 0, ..., 0, 0, 1])"
      ]
     },
     "execution_count": 152,
     "metadata": {},
     "output_type": "execute_result"
    }
   ],
   "source": [
    "y_pred"
   ]
  },
  {
   "cell_type": "code",
   "execution_count": 153,
   "metadata": {},
   "outputs": [
    {
     "data": {
      "text/plain": [
       "0.8597326496978576"
      ]
     },
     "execution_count": 153,
     "metadata": {},
     "output_type": "execute_result"
    }
   ],
   "source": [
    "from sklearn.metrics import accuracy_score\n",
    "accuracy_score(y_valid, y_pred)\n"
   ]
  },
  {
   "cell_type": "code",
   "execution_count": null,
   "metadata": {},
   "outputs": [],
   "source": []
  },
  {
   "cell_type": "markdown",
   "metadata": {},
   "source": [
    "# New test by changing the learning rate : "
   ]
  },
  {
   "cell_type": "code",
   "execution_count": 256,
   "metadata": {},
   "outputs": [
    {
     "name": "stderr",
     "output_type": "stream",
     "text": [
      "/Users/adrien/opt/anaconda3/lib/python3.9/site-packages/keras/optimizers/optimizer_v2/adam.py:110: UserWarning: The `lr` argument is deprecated, use `learning_rate` instead.\n",
      "  super(Adam, self).__init__(name, **kwargs)\n"
     ]
    },
    {
     "name": "stdout",
     "output_type": "stream",
     "text": [
      "Epoch 1/20\n",
      "683/683 [==============================] - 10s 13ms/step - loss: 0.3291 - accuracy: 0.8462 - val_loss: 0.3147 - val_accuracy: 0.8551\n",
      "Epoch 2/20\n",
      "683/683 [==============================] - 10s 14ms/step - loss: 0.3069 - accuracy: 0.8604 - val_loss: 0.3172 - val_accuracy: 0.8556\n",
      "Epoch 3/20\n",
      "683/683 [==============================] - 11s 16ms/step - loss: 0.2967 - accuracy: 0.8670 - val_loss: 0.3114 - val_accuracy: 0.8583\n",
      "Epoch 4/20\n",
      "683/683 [==============================] - 13s 20ms/step - loss: 0.2899 - accuracy: 0.8698 - val_loss: 0.3112 - val_accuracy: 0.8602\n",
      "Epoch 5/20\n",
      "683/683 [==============================] - 15s 21ms/step - loss: 0.2810 - accuracy: 0.8739 - val_loss: 0.3104 - val_accuracy: 0.8620\n",
      "Epoch 6/20\n",
      "683/683 [==============================] - 12s 18ms/step - loss: 0.2723 - accuracy: 0.8788 - val_loss: 0.3232 - val_accuracy: 0.8598\n",
      "Epoch 7/20\n",
      "683/683 [==============================] - 12s 17ms/step - loss: 0.2655 - accuracy: 0.8818 - val_loss: 0.3292 - val_accuracy: 0.8584\n",
      "Epoch 8/20\n",
      "683/683 [==============================] - 12s 17ms/step - loss: 0.2551 - accuracy: 0.8860 - val_loss: 0.3364 - val_accuracy: 0.8588\n",
      "Epoch 9/20\n",
      "683/683 [==============================] - 12s 17ms/step - loss: 0.2467 - accuracy: 0.8884 - val_loss: 0.3580 - val_accuracy: 0.8570\n",
      "Epoch 10/20\n",
      "681/683 [============================>.] - ETA: 0s - loss: 0.2396 - accuracy: 0.8925Restoring model weights from the end of the best epoch: 5.\n",
      "683/683 [==============================] - 12s 17ms/step - loss: 0.2397 - accuracy: 0.8924 - val_loss: 0.3498 - val_accuracy: 0.8577\n",
      "Epoch 10: early stopping\n"
     ]
    }
   ],
   "source": [
    "\n",
    "tf.random.set_seed(1)\n",
    "\n",
    "\n",
    "from keras.optimizers import Adam\n",
    "model = keras.models.Sequential([\n",
    "    keras.layers.Dense(units=300, activation=\"relu\"),\n",
    "    keras.layers.Dropout(0.2),\n",
    "    keras.layers.Dense(units=300, activation=\"relu\"),\n",
    "    keras.layers.Dropout(0.2),\n",
    "    keras.layers.Dense(units=50, activation=\"relu\"),\n",
    "    keras.layers.Dense(units=2,  activation=\"softmax\")\n",
    "    \n",
    "])\n",
    "\n",
    "\n",
    "\n",
    "model.compile(Adam(lr=0.001),loss = \"sparse_categorical_crossentropy\", # as y is encoded as a vector of labels and not as a one hot matrix\n",
    "              \n",
    "              metrics = [\"accuracy\"])\n",
    "early_stopping_cb = keras.callbacks.EarlyStopping(patience=5, restore_best_weights=True, verbose=1)\n",
    "\n",
    "history = model.fit(x=new_x_train, y=y_train,\n",
    "                    validation_data=(new_x_valid, y_valid),\n",
    "                    batch_size = 64,\n",
    "                    epochs=20,callbacks=[early_stopping_cb])\n"
   ]
  },
  {
   "cell_type": "code",
   "execution_count": 257,
   "metadata": {},
   "outputs": [
    {
     "name": "stdout",
     "output_type": "stream",
     "text": [
      "342/342 [==============================] - 2s 4ms/step\n"
     ]
    },
    {
     "data": {
      "text/plain": [
       "0.8620216077641457"
      ]
     },
     "execution_count": 257,
     "metadata": {},
     "output_type": "execute_result"
    }
   ],
   "source": [
    "y_pred = np.argmax(model.predict(new_x_valid), axis = 1)\n",
    "from sklearn.metrics import accuracy_score\n",
    "accuracy_score(y_valid, y_pred)"
   ]
  },
  {
   "cell_type": "markdown",
   "metadata": {},
   "source": [
    "64 mini batch, 300 --> 0.2 --> 300 --> 0.2 --> 50 -->2 = 0.8620216077641457 best so far ! "
   ]
  },
  {
   "cell_type": "markdown",
   "metadata": {},
   "source": [
    "## Trying to publish this model"
   ]
  },
  {
   "cell_type": "code",
   "execution_count": 265,
   "metadata": {},
   "outputs": [
    {
     "name": "stdout",
     "output_type": "stream",
     "text": [
      "190/190 [==============================] - 1s 6ms/step\n"
     ]
    },
    {
     "name": "stderr",
     "output_type": "stream",
     "text": [
      "/var/folders/r3/t8xp3_0d2qg9znqckxzmdc2w0000gp/T/ipykernel_34611/2369048823.py:3: SettingWithCopyWarning: \n",
      "A value is trying to be set on a copy of a slice from a DataFrame.\n",
      "Try using .loc[row_indexer,col_indexer] = value instead\n",
      "\n",
      "See the caveats in the documentation: https://pandas.pydata.org/pandas-docs/stable/user_guide/indexing.html#returning-a-view-versus-a-copy\n",
      "  NN_keras[\"high_income\"] = y_pred\n"
     ]
    },
    {
     "data": {
      "text/html": [
       "<div>\n",
       "<style scoped>\n",
       "    .dataframe tbody tr th:only-of-type {\n",
       "        vertical-align: middle;\n",
       "    }\n",
       "\n",
       "    .dataframe tbody tr th {\n",
       "        vertical-align: top;\n",
       "    }\n",
       "\n",
       "    .dataframe thead th {\n",
       "        text-align: right;\n",
       "    }\n",
       "</style>\n",
       "<table border=\"1\" class=\"dataframe\">\n",
       "  <thead>\n",
       "    <tr style=\"text-align: right;\">\n",
       "      <th></th>\n",
       "      <th>id</th>\n",
       "      <th>high_income</th>\n",
       "    </tr>\n",
       "  </thead>\n",
       "  <tbody>\n",
       "    <tr>\n",
       "      <th>0</th>\n",
       "      <td>1</td>\n",
       "      <td>0</td>\n",
       "    </tr>\n",
       "    <tr>\n",
       "      <th>1</th>\n",
       "      <td>2</td>\n",
       "      <td>0</td>\n",
       "    </tr>\n",
       "    <tr>\n",
       "      <th>2</th>\n",
       "      <td>3</td>\n",
       "      <td>0</td>\n",
       "    </tr>\n",
       "    <tr>\n",
       "      <th>3</th>\n",
       "      <td>4</td>\n",
       "      <td>1</td>\n",
       "    </tr>\n",
       "    <tr>\n",
       "      <th>4</th>\n",
       "      <td>5</td>\n",
       "      <td>0</td>\n",
       "    </tr>\n",
       "    <tr>\n",
       "      <th>...</th>\n",
       "      <td>...</td>\n",
       "      <td>...</td>\n",
       "    </tr>\n",
       "    <tr>\n",
       "      <th>6063</th>\n",
       "      <td>6064</td>\n",
       "      <td>0</td>\n",
       "    </tr>\n",
       "    <tr>\n",
       "      <th>6064</th>\n",
       "      <td>6065</td>\n",
       "      <td>1</td>\n",
       "    </tr>\n",
       "    <tr>\n",
       "      <th>6065</th>\n",
       "      <td>6066</td>\n",
       "      <td>0</td>\n",
       "    </tr>\n",
       "    <tr>\n",
       "      <th>6066</th>\n",
       "      <td>6067</td>\n",
       "      <td>0</td>\n",
       "    </tr>\n",
       "    <tr>\n",
       "      <th>6067</th>\n",
       "      <td>6068</td>\n",
       "      <td>1</td>\n",
       "    </tr>\n",
       "  </tbody>\n",
       "</table>\n",
       "<p>6068 rows × 2 columns</p>\n",
       "</div>"
      ],
      "text/plain": [
       "        id  high_income\n",
       "0        1            0\n",
       "1        2            0\n",
       "2        3            0\n",
       "3        4            1\n",
       "4        5            0\n",
       "...    ...          ...\n",
       "6063  6064            0\n",
       "6064  6065            1\n",
       "6065  6066            0\n",
       "6066  6067            0\n",
       "6067  6068            1\n",
       "\n",
       "[6068 rows x 2 columns]"
      ]
     },
     "execution_count": 265,
     "metadata": {},
     "output_type": "execute_result"
    }
   ],
   "source": [
    "NN_keras = test_id\n",
    "y_pred = np.argmax(model.predict(new_x_test), axis = 1)\n",
    "NN_keras[\"high_income\"] = y_pred\n",
    "NN_keras\n"
   ]
  },
  {
   "cell_type": "code",
   "execution_count": 266,
   "metadata": {},
   "outputs": [],
   "source": [
    "NN_keras.to_csv(\"Predictions/NN_keras.csv\",index = False, header=True)"
   ]
  },
  {
   "cell_type": "code",
   "execution_count": null,
   "metadata": {},
   "outputs": [],
   "source": []
  },
  {
   "cell_type": "code",
   "execution_count": null,
   "metadata": {},
   "outputs": [],
   "source": []
  },
  {
   "cell_type": "code",
   "execution_count": null,
   "metadata": {},
   "outputs": [],
   "source": []
  }
 ],
 "metadata": {
  "kernelspec": {
   "display_name": "Python 3",
   "language": "python",
   "name": "python3"
  },
  "language_info": {
   "codemirror_mode": {
    "name": "ipython",
    "version": 3
   },
   "file_extension": ".py",
   "mimetype": "text/x-python",
   "name": "python",
   "nbconvert_exporter": "python",
   "pygments_lexer": "ipython3",
   "version": "3.7.3"
  }
 },
 "nbformat": 4,
 "nbformat_minor": 5
}
